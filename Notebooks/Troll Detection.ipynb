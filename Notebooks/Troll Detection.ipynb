{
 "cells": [
  {
   "cell_type": "markdown",
   "id": "dc3f091e",
   "metadata": {
    "toc": true
   },
   "source": [
    "<h1>Table of Contents<span class=\"tocSkip\"></span></h1>\n",
    "<div class=\"toc\"><ul class=\"toc-item\"><li><span><a href=\"#Project-Objective\" data-toc-modified-id=\"Project-Objective-1\"><span class=\"toc-item-num\">1&nbsp;&nbsp;</span>Project Objective</a></span></li><li><span><a href=\"#Dataset-Description\" data-toc-modified-id=\"Dataset-Description-2\"><span class=\"toc-item-num\">2&nbsp;&nbsp;</span>Dataset Description</a></span></li><li><span><a href=\"#Imports\" data-toc-modified-id=\"Imports-3\"><span class=\"toc-item-num\">3&nbsp;&nbsp;</span>Imports</a></span></li></ul></div>"
   ]
  },
  {
   "cell_type": "markdown",
   "id": "071ee639",
   "metadata": {},
   "source": [
    "# Table of Contents\n",
    "\n"
   ]
  },
  {
   "cell_type": "markdown",
   "id": "498a4636",
   "metadata": {},
   "source": [
    "# Introduction"
   ]
  },
  {
   "cell_type": "markdown",
   "id": "e9208bae",
   "metadata": {},
   "source": [
    "## Project Objective"
   ]
  },
  {
   "cell_type": "markdown",
   "id": "bc6198cf",
   "metadata": {},
   "source": [
    "## Dataset Description"
   ]
  },
  {
   "cell_type": "markdown",
   "id": "db09d91d",
   "metadata": {},
   "source": [
    "The dataset used for this analysis is sourced from Kaggle, specifically the [Dataset for Detection of Cyber-Trolls](https://www.kaggle.com/datasets/dataturks/dataset-for-detection-of-cybertrolls).\n",
    "\n",
    "This dataset consists of tweets that have been manually classified as either aggressive (potentially from trolls) or not aggressive. \n",
    "\n",
    "Key features of the dataset:\n",
    "- Contains 20,001 items (tweets).\n",
    "- Each tweet has been manually labeled.\n",
    "- The labels are categorized into two groups:\n",
    "    - 1 represents Cyber-Aggressive (potentially from trolls).\n",
    "    - 0 represents Non Cyber-Aggressive.\n",
    "\n",
    "This dataset serves as a valuable resource for training a machine learning model to identify troll behavior on social media platforms, thereby aiding in online safety and content moderation efforts."
   ]
  },
  {
   "cell_type": "markdown",
   "id": "2ea594bc",
   "metadata": {},
   "source": [
    "## Imports"
   ]
  },
  {
   "cell_type": "code",
   "execution_count": 1,
   "id": "af677d01",
   "metadata": {},
   "outputs": [],
   "source": [
    "import os\n",
    "import pandas as pd\n",
    "import matplotlib.pyplot as plt\n",
    "from matplotlib.lines import Line2D\n",
    "import seaborn as sns\n",
    "import nltk\n",
    "from nltk.corpus import stopwords\n",
    "from nltk.tokenize import word_tokenize\n",
    "import string\n",
    "from collections import Counter"
   ]
  },
  {
   "cell_type": "code",
   "execution_count": 2,
   "id": "badf5e2a",
   "metadata": {},
   "outputs": [],
   "source": [
    "# nltk.download('stopwords')"
   ]
  },
  {
   "cell_type": "markdown",
   "id": "04aa03ed",
   "metadata": {},
   "source": [
    "# Data Loading and Initial Inspection"
   ]
  },
  {
   "cell_type": "code",
   "execution_count": 3,
   "id": "c48c87f4",
   "metadata": {},
   "outputs": [],
   "source": [
    "df = pd.read_json('../Data/Dataset for Detection of Cyber-Trolls.json', lines= True)"
   ]
  },
  {
   "cell_type": "code",
   "execution_count": 4,
   "id": "2afccf81",
   "metadata": {},
   "outputs": [
    {
     "data": {
      "text/html": [
       "<div>\n",
       "<style scoped>\n",
       "    .dataframe tbody tr th:only-of-type {\n",
       "        vertical-align: middle;\n",
       "    }\n",
       "\n",
       "    .dataframe tbody tr th {\n",
       "        vertical-align: top;\n",
       "    }\n",
       "\n",
       "    .dataframe thead th {\n",
       "        text-align: right;\n",
       "    }\n",
       "</style>\n",
       "<table border=\"1\" class=\"dataframe\">\n",
       "  <thead>\n",
       "    <tr style=\"text-align: right;\">\n",
       "      <th></th>\n",
       "      <th>content</th>\n",
       "      <th>annotation</th>\n",
       "      <th>extras</th>\n",
       "    </tr>\n",
       "  </thead>\n",
       "  <tbody>\n",
       "    <tr>\n",
       "      <th>0</th>\n",
       "      <td>Get fucking real dude.</td>\n",
       "      <td>{'notes': '', 'label': ['1']}</td>\n",
       "      <td>NaN</td>\n",
       "    </tr>\n",
       "    <tr>\n",
       "      <th>1</th>\n",
       "      <td>She is as dirty as they come  and that crook ...</td>\n",
       "      <td>{'notes': '', 'label': ['1']}</td>\n",
       "      <td>NaN</td>\n",
       "    </tr>\n",
       "    <tr>\n",
       "      <th>2</th>\n",
       "      <td>why did you fuck it up. I could do it all day...</td>\n",
       "      <td>{'notes': '', 'label': ['1']}</td>\n",
       "      <td>NaN</td>\n",
       "    </tr>\n",
       "    <tr>\n",
       "      <th>3</th>\n",
       "      <td>Dude they dont finish enclosing the fucking s...</td>\n",
       "      <td>{'notes': '', 'label': ['1']}</td>\n",
       "      <td>NaN</td>\n",
       "    </tr>\n",
       "    <tr>\n",
       "      <th>4</th>\n",
       "      <td>WTF are you talking about Men? No men thats n...</td>\n",
       "      <td>{'notes': '', 'label': ['1']}</td>\n",
       "      <td>NaN</td>\n",
       "    </tr>\n",
       "  </tbody>\n",
       "</table>\n",
       "</div>"
      ],
      "text/plain": [
       "                                             content  \\\n",
       "0                             Get fucking real dude.   \n",
       "1   She is as dirty as they come  and that crook ...   \n",
       "2   why did you fuck it up. I could do it all day...   \n",
       "3   Dude they dont finish enclosing the fucking s...   \n",
       "4   WTF are you talking about Men? No men thats n...   \n",
       "\n",
       "                      annotation  extras  \n",
       "0  {'notes': '', 'label': ['1']}     NaN  \n",
       "1  {'notes': '', 'label': ['1']}     NaN  \n",
       "2  {'notes': '', 'label': ['1']}     NaN  \n",
       "3  {'notes': '', 'label': ['1']}     NaN  \n",
       "4  {'notes': '', 'label': ['1']}     NaN  "
      ]
     },
     "execution_count": 4,
     "metadata": {},
     "output_type": "execute_result"
    }
   ],
   "source": [
    "df.head()"
   ]
  },
  {
   "cell_type": "code",
   "execution_count": 5,
   "id": "610cafc4",
   "metadata": {},
   "outputs": [
    {
     "data": {
      "text/plain": [
       "(20001, 3)"
      ]
     },
     "execution_count": 5,
     "metadata": {},
     "output_type": "execute_result"
    }
   ],
   "source": [
    "df.shape"
   ]
  },
  {
   "cell_type": "code",
   "execution_count": 6,
   "id": "1ab40517",
   "metadata": {},
   "outputs": [
    {
     "data": {
      "text/plain": [
       "content           0\n",
       "annotation        0\n",
       "extras        20001\n",
       "dtype: int64"
      ]
     },
     "execution_count": 6,
     "metadata": {},
     "output_type": "execute_result"
    }
   ],
   "source": [
    "df.isnull().sum()"
   ]
  },
  {
   "cell_type": "markdown",
   "id": "67d3a9d3",
   "metadata": {},
   "source": [
    "`extras` column is entirely null, so we will be dropping it."
   ]
  },
  {
   "cell_type": "code",
   "execution_count": 7,
   "id": "61e7143e",
   "metadata": {},
   "outputs": [],
   "source": [
    "df = df.drop(['extras'], axis=1)"
   ]
  },
  {
   "cell_type": "markdown",
   "id": "b61f5201",
   "metadata": {},
   "source": [
    "After dropping the 'extras' column, we now have a dataset with two useful features: 'content' and 'annotation'. The 'content' column contains the text of the social media posts, while the 'annotation' column carries a dictionary object with 'notes' and 'label' keys. \n",
    "\n",
    "However, for ease of analysis, it is more convenient to have 'troll' (which indicates whether a post is made by a troll or not) as a separate column rather than embedded within 'annotation'. Hence, we extract 'label' from the 'annotation' column and add it as a new column to the dataframe."
   ]
  },
  {
   "cell_type": "code",
   "execution_count": 8,
   "id": "820268e0",
   "metadata": {},
   "outputs": [],
   "source": [
    "# Create Binary column 'Troll'\n",
    "df['Troll'] = df['annotation'].apply(lambda x: x['label'][0])\n",
    "\n",
    "# Convert Troll column to integers\n",
    "df['Troll'] = df['Troll'].astype(int)\n",
    "\n",
    "# Remove old column 'annotation' as it is entirely redundant now.\n",
    "df = df.drop(['annotation'], axis=1)"
   ]
  },
  {
   "cell_type": "markdown",
   "id": "275b5ce9",
   "metadata": {},
   "source": [
    "Once this is done, we then count the number of each label to see the distribution of troll and non-troll posts in our dataset. The countplot visualization gives a clear picture of this distribution. The '0' label represents non-troll posts and '1' represents troll posts."
   ]
  },
  {
   "cell_type": "code",
   "execution_count": 9,
   "id": "38c11f50",
   "metadata": {},
   "outputs": [
    {
     "data": {
      "text/plain": [
       "0    12179\n",
       "1     7822\n",
       "Name: Troll, dtype: int64"
      ]
     },
     "execution_count": 9,
     "metadata": {},
     "output_type": "execute_result"
    }
   ],
   "source": [
    "df['Troll'].value_counts()"
   ]
  },
  {
   "cell_type": "code",
   "execution_count": 10,
   "id": "49e8b793",
   "metadata": {},
   "outputs": [
    {
     "data": {
      "image/png": "[encoded data removed]",
      "text/plain": [
       "<Figure size 640x480 with 1 Axes>"
      ]
     },
     "metadata": {},
     "output_type": "display_data"
    }
   ],
   "source": [
    "sns.countplot(x='Troll', data=df)\n",
    "plt.show()"
   ]
  },
  {
   "cell_type": "code",
   "execution_count": 11,
   "id": "9a67fcba",
   "metadata": {},
   "outputs": [
    {
     "data": {
      "text/html": [
       "<div>\n",
       "<style scoped>\n",
       "    .dataframe tbody tr th:only-of-type {\n",
       "        vertical-align: middle;\n",
       "    }\n",
       "\n",
       "    .dataframe tbody tr th {\n",
       "        vertical-align: top;\n",
       "    }\n",
       "\n",
       "    .dataframe thead th {\n",
       "        text-align: right;\n",
       "    }\n",
       "</style>\n",
       "<table border=\"1\" class=\"dataframe\">\n",
       "  <thead>\n",
       "    <tr style=\"text-align: right;\">\n",
       "      <th></th>\n",
       "      <th>content</th>\n",
       "      <th>Troll</th>\n",
       "    </tr>\n",
       "  </thead>\n",
       "  <tbody>\n",
       "    <tr>\n",
       "      <th>0</th>\n",
       "      <td>Get fucking real dude.</td>\n",
       "      <td>1</td>\n",
       "    </tr>\n",
       "    <tr>\n",
       "      <th>1</th>\n",
       "      <td>She is as dirty as they come  and that crook ...</td>\n",
       "      <td>1</td>\n",
       "    </tr>\n",
       "    <tr>\n",
       "      <th>2</th>\n",
       "      <td>why did you fuck it up. I could do it all day...</td>\n",
       "      <td>1</td>\n",
       "    </tr>\n",
       "    <tr>\n",
       "      <th>3</th>\n",
       "      <td>Dude they dont finish enclosing the fucking s...</td>\n",
       "      <td>1</td>\n",
       "    </tr>\n",
       "    <tr>\n",
       "      <th>4</th>\n",
       "      <td>WTF are you talking about Men? No men thats n...</td>\n",
       "      <td>1</td>\n",
       "    </tr>\n",
       "    <tr>\n",
       "      <th>...</th>\n",
       "      <td>...</td>\n",
       "      <td>...</td>\n",
       "    </tr>\n",
       "    <tr>\n",
       "      <th>19996</th>\n",
       "      <td>I dont. But what is complaining about it goi...</td>\n",
       "      <td>0</td>\n",
       "    </tr>\n",
       "    <tr>\n",
       "      <th>19997</th>\n",
       "      <td>Bahah  yeah i&amp;;m totally just gonna&amp;; get pis...</td>\n",
       "      <td>0</td>\n",
       "    </tr>\n",
       "    <tr>\n",
       "      <th>19998</th>\n",
       "      <td>hahahahaha &gt;:) im evil mwahahahahahahahahaha</td>\n",
       "      <td>0</td>\n",
       "    </tr>\n",
       "    <tr>\n",
       "      <th>19999</th>\n",
       "      <td>What&amp;;s something unique about Ohio? :)</td>\n",
       "      <td>0</td>\n",
       "    </tr>\n",
       "    <tr>\n",
       "      <th>20000</th>\n",
       "      <td>Who is the biggest gossiper you know?</td>\n",
       "      <td>0</td>\n",
       "    </tr>\n",
       "  </tbody>\n",
       "</table>\n",
       "<p>20001 rows × 2 columns</p>\n",
       "</div>"
      ],
      "text/plain": [
       "                                                 content  Troll\n",
       "0                                 Get fucking real dude.      1\n",
       "1       She is as dirty as they come  and that crook ...      1\n",
       "2       why did you fuck it up. I could do it all day...      1\n",
       "3       Dude they dont finish enclosing the fucking s...      1\n",
       "4       WTF are you talking about Men? No men thats n...      1\n",
       "...                                                  ...    ...\n",
       "19996    I dont. But what is complaining about it goi...      0\n",
       "19997   Bahah  yeah i&;m totally just gonna&; get pis...      0\n",
       "19998       hahahahaha >:) im evil mwahahahahahahahahaha      0\n",
       "19999            What&;s something unique about Ohio? :)      0\n",
       "20000              Who is the biggest gossiper you know?      0\n",
       "\n",
       "[20001 rows x 2 columns]"
      ]
     },
     "execution_count": 11,
     "metadata": {},
     "output_type": "execute_result"
    }
   ],
   "source": [
    "df"
   ]
  },
  {
   "cell_type": "markdown",
   "id": "aaa85f7c",
   "metadata": {},
   "source": [
    "# Data Preprocessing"
   ]
  },
  {
   "cell_type": "code",
   "execution_count": 12,
   "id": "c31a866d",
   "metadata": {},
   "outputs": [],
   "source": [
    "stop_words = set(stopwords.words('english'))\n",
    "\n",
    "def preprocess_text(text):\n",
    "    # Lowercase the text\n",
    "    text = text.lower()\n",
    "    \n",
    "    # Tokenize the text\n",
    "    words = word_tokenize(text)\n",
    "    \n",
    "    # Remove punctuation and filter out stop words\n",
    "    words = [word for word in words if word.isalpha() and word not in stop_words]\n",
    "\n",
    "    return words\n",
    "\n",
    "# Apply the preprocessing to the 'content' column\n",
    "df['cleaned_words'] = df['content'].apply(preprocess_text)"
   ]
  },
  {
   "cell_type": "code",
   "execution_count": 13,
   "id": "ca93cff6",
   "metadata": {},
   "outputs": [
    {
     "data": {
      "text/html": [
       "<div>\n",
       "<style scoped>\n",
       "    .dataframe tbody tr th:only-of-type {\n",
       "        vertical-align: middle;\n",
       "    }\n",
       "\n",
       "    .dataframe tbody tr th {\n",
       "        vertical-align: top;\n",
       "    }\n",
       "\n",
       "    .dataframe thead th {\n",
       "        text-align: right;\n",
       "    }\n",
       "</style>\n",
       "<table border=\"1\" class=\"dataframe\">\n",
       "  <thead>\n",
       "    <tr style=\"text-align: right;\">\n",
       "      <th></th>\n",
       "      <th>content</th>\n",
       "      <th>Troll</th>\n",
       "      <th>cleaned_words</th>\n",
       "    </tr>\n",
       "  </thead>\n",
       "  <tbody>\n",
       "    <tr>\n",
       "      <th>0</th>\n",
       "      <td>Get fucking real dude.</td>\n",
       "      <td>1</td>\n",
       "      <td>[get, fucking, real, dude]</td>\n",
       "    </tr>\n",
       "    <tr>\n",
       "      <th>1</th>\n",
       "      <td>She is as dirty as they come  and that crook ...</td>\n",
       "      <td>1</td>\n",
       "      <td>[dirty, come, crook, rengel, dems, fucking, co...</td>\n",
       "    </tr>\n",
       "    <tr>\n",
       "      <th>2</th>\n",
       "      <td>why did you fuck it up. I could do it all day...</td>\n",
       "      <td>1</td>\n",
       "      <td>[fuck, could, day, let, hour, ping, later, sch...</td>\n",
       "    </tr>\n",
       "    <tr>\n",
       "      <th>3</th>\n",
       "      <td>Dude they dont finish enclosing the fucking s...</td>\n",
       "      <td>1</td>\n",
       "      <td>[dude, dont, finish, enclosing, fucking, showe...</td>\n",
       "    </tr>\n",
       "    <tr>\n",
       "      <th>4</th>\n",
       "      <td>WTF are you talking about Men? No men thats n...</td>\n",
       "      <td>1</td>\n",
       "      <td>[wtf, talking, men, men, thats, menage, gay]</td>\n",
       "    </tr>\n",
       "    <tr>\n",
       "      <th>...</th>\n",
       "      <td>...</td>\n",
       "      <td>...</td>\n",
       "      <td>...</td>\n",
       "    </tr>\n",
       "    <tr>\n",
       "      <th>19996</th>\n",
       "      <td>I dont. But what is complaining about it goi...</td>\n",
       "      <td>0</td>\n",
       "      <td>[dont, complaining, going]</td>\n",
       "    </tr>\n",
       "    <tr>\n",
       "      <th>19997</th>\n",
       "      <td>Bahah  yeah i&amp;;m totally just gonna&amp;; get pis...</td>\n",
       "      <td>0</td>\n",
       "      <td>[bahah, yeah, totally, gon, na, get, pissed, t...</td>\n",
       "    </tr>\n",
       "    <tr>\n",
       "      <th>19998</th>\n",
       "      <td>hahahahaha &gt;:) im evil mwahahahahahahahahaha</td>\n",
       "      <td>0</td>\n",
       "      <td>[hahahahaha, im, evil, mwahahahahahahahahaha]</td>\n",
       "    </tr>\n",
       "    <tr>\n",
       "      <th>19999</th>\n",
       "      <td>What&amp;;s something unique about Ohio? :)</td>\n",
       "      <td>0</td>\n",
       "      <td>[something, unique, ohio]</td>\n",
       "    </tr>\n",
       "    <tr>\n",
       "      <th>20000</th>\n",
       "      <td>Who is the biggest gossiper you know?</td>\n",
       "      <td>0</td>\n",
       "      <td>[biggest, gossiper, know]</td>\n",
       "    </tr>\n",
       "  </tbody>\n",
       "</table>\n",
       "<p>20001 rows × 3 columns</p>\n",
       "</div>"
      ],
      "text/plain": [
       "                                                 content  Troll  \\\n",
       "0                                 Get fucking real dude.      1   \n",
       "1       She is as dirty as they come  and that crook ...      1   \n",
       "2       why did you fuck it up. I could do it all day...      1   \n",
       "3       Dude they dont finish enclosing the fucking s...      1   \n",
       "4       WTF are you talking about Men? No men thats n...      1   \n",
       "...                                                  ...    ...   \n",
       "19996    I dont. But what is complaining about it goi...      0   \n",
       "19997   Bahah  yeah i&;m totally just gonna&; get pis...      0   \n",
       "19998       hahahahaha >:) im evil mwahahahahahahahahaha      0   \n",
       "19999            What&;s something unique about Ohio? :)      0   \n",
       "20000              Who is the biggest gossiper you know?      0   \n",
       "\n",
       "                                           cleaned_words  \n",
       "0                             [get, fucking, real, dude]  \n",
       "1      [dirty, come, crook, rengel, dems, fucking, co...  \n",
       "2      [fuck, could, day, let, hour, ping, later, sch...  \n",
       "3      [dude, dont, finish, enclosing, fucking, showe...  \n",
       "4           [wtf, talking, men, men, thats, menage, gay]  \n",
       "...                                                  ...  \n",
       "19996                         [dont, complaining, going]  \n",
       "19997  [bahah, yeah, totally, gon, na, get, pissed, t...  \n",
       "19998      [hahahahaha, im, evil, mwahahahahahahahahaha]  \n",
       "19999                          [something, unique, ohio]  \n",
       "20000                          [biggest, gossiper, know]  \n",
       "\n",
       "[20001 rows x 3 columns]"
      ]
     },
     "execution_count": 13,
     "metadata": {},
     "output_type": "execute_result"
    }
   ],
   "source": [
    "df"
   ]
  },
  {
   "cell_type": "code",
   "execution_count": 14,
   "id": "1ccbc4ff",
   "metadata": {},
   "outputs": [],
   "source": [
    "# Concatenate all the lists of words\n",
    "all_words = [word for words in df['cleaned_words'] for word in words]\n",
    "\n",
    "# Count the frequency of each word\n",
    "word_freq = Counter(all_words)"
   ]
  },
  {
   "cell_type": "markdown",
   "id": "3e62892b",
   "metadata": {},
   "source": [
    "# EDA"
   ]
  },
  {
   "cell_type": "markdown",
   "id": "e031e3b3",
   "metadata": {},
   "source": [
    "Now we have our column `Troll` which identifies if a post is a Troll post (1) or a Non-Troll post (0). \n",
    "\n",
    "As well as our column `cleaned_words` which contains the tokenized versions of the content of the post."
   ]
  },
  {
   "cell_type": "code",
   "execution_count": 15,
   "id": "e9fc0f71",
   "metadata": {},
   "outputs": [
    {
     "data": {
      "text/html": [
       "<div>\n",
       "<style scoped>\n",
       "    .dataframe tbody tr th:only-of-type {\n",
       "        vertical-align: middle;\n",
       "    }\n",
       "\n",
       "    .dataframe tbody tr th {\n",
       "        vertical-align: top;\n",
       "    }\n",
       "\n",
       "    .dataframe thead th {\n",
       "        text-align: right;\n",
       "    }\n",
       "</style>\n",
       "<table border=\"1\" class=\"dataframe\">\n",
       "  <thead>\n",
       "    <tr style=\"text-align: right;\">\n",
       "      <th></th>\n",
       "      <th>content</th>\n",
       "      <th>Troll</th>\n",
       "      <th>cleaned_words</th>\n",
       "    </tr>\n",
       "  </thead>\n",
       "  <tbody>\n",
       "    <tr>\n",
       "      <th>0</th>\n",
       "      <td>Get fucking real dude.</td>\n",
       "      <td>1</td>\n",
       "      <td>[get, fucking, real, dude]</td>\n",
       "    </tr>\n",
       "    <tr>\n",
       "      <th>1</th>\n",
       "      <td>She is as dirty as they come  and that crook ...</td>\n",
       "      <td>1</td>\n",
       "      <td>[dirty, come, crook, rengel, dems, fucking, co...</td>\n",
       "    </tr>\n",
       "    <tr>\n",
       "      <th>2</th>\n",
       "      <td>why did you fuck it up. I could do it all day...</td>\n",
       "      <td>1</td>\n",
       "      <td>[fuck, could, day, let, hour, ping, later, sch...</td>\n",
       "    </tr>\n",
       "    <tr>\n",
       "      <th>3</th>\n",
       "      <td>Dude they dont finish enclosing the fucking s...</td>\n",
       "      <td>1</td>\n",
       "      <td>[dude, dont, finish, enclosing, fucking, showe...</td>\n",
       "    </tr>\n",
       "    <tr>\n",
       "      <th>4</th>\n",
       "      <td>WTF are you talking about Men? No men thats n...</td>\n",
       "      <td>1</td>\n",
       "      <td>[wtf, talking, men, men, thats, menage, gay]</td>\n",
       "    </tr>\n",
       "    <tr>\n",
       "      <th>...</th>\n",
       "      <td>...</td>\n",
       "      <td>...</td>\n",
       "      <td>...</td>\n",
       "    </tr>\n",
       "    <tr>\n",
       "      <th>19996</th>\n",
       "      <td>I dont. But what is complaining about it goi...</td>\n",
       "      <td>0</td>\n",
       "      <td>[dont, complaining, going]</td>\n",
       "    </tr>\n",
       "    <tr>\n",
       "      <th>19997</th>\n",
       "      <td>Bahah  yeah i&amp;;m totally just gonna&amp;; get pis...</td>\n",
       "      <td>0</td>\n",
       "      <td>[bahah, yeah, totally, gon, na, get, pissed, t...</td>\n",
       "    </tr>\n",
       "    <tr>\n",
       "      <th>19998</th>\n",
       "      <td>hahahahaha &gt;:) im evil mwahahahahahahahahaha</td>\n",
       "      <td>0</td>\n",
       "      <td>[hahahahaha, im, evil, mwahahahahahahahahaha]</td>\n",
       "    </tr>\n",
       "    <tr>\n",
       "      <th>19999</th>\n",
       "      <td>What&amp;;s something unique about Ohio? :)</td>\n",
       "      <td>0</td>\n",
       "      <td>[something, unique, ohio]</td>\n",
       "    </tr>\n",
       "    <tr>\n",
       "      <th>20000</th>\n",
       "      <td>Who is the biggest gossiper you know?</td>\n",
       "      <td>0</td>\n",
       "      <td>[biggest, gossiper, know]</td>\n",
       "    </tr>\n",
       "  </tbody>\n",
       "</table>\n",
       "<p>20001 rows × 3 columns</p>\n",
       "</div>"
      ],
      "text/plain": [
       "                                                 content  Troll  \\\n",
       "0                                 Get fucking real dude.      1   \n",
       "1       She is as dirty as they come  and that crook ...      1   \n",
       "2       why did you fuck it up. I could do it all day...      1   \n",
       "3       Dude they dont finish enclosing the fucking s...      1   \n",
       "4       WTF are you talking about Men? No men thats n...      1   \n",
       "...                                                  ...    ...   \n",
       "19996    I dont. But what is complaining about it goi...      0   \n",
       "19997   Bahah  yeah i&;m totally just gonna&; get pis...      0   \n",
       "19998       hahahahaha >:) im evil mwahahahahahahahahaha      0   \n",
       "19999            What&;s something unique about Ohio? :)      0   \n",
       "20000              Who is the biggest gossiper you know?      0   \n",
       "\n",
       "                                           cleaned_words  \n",
       "0                             [get, fucking, real, dude]  \n",
       "1      [dirty, come, crook, rengel, dems, fucking, co...  \n",
       "2      [fuck, could, day, let, hour, ping, later, sch...  \n",
       "3      [dude, dont, finish, enclosing, fucking, showe...  \n",
       "4           [wtf, talking, men, men, thats, menage, gay]  \n",
       "...                                                  ...  \n",
       "19996                         [dont, complaining, going]  \n",
       "19997  [bahah, yeah, totally, gon, na, get, pissed, t...  \n",
       "19998      [hahahahaha, im, evil, mwahahahahahahahahaha]  \n",
       "19999                          [something, unique, ohio]  \n",
       "20000                          [biggest, gossiper, know]  \n",
       "\n",
       "[20001 rows x 3 columns]"
      ]
     },
     "execution_count": 15,
     "metadata": {},
     "output_type": "execute_result"
    }
   ],
   "source": [
    "df"
   ]
  },
  {
   "cell_type": "code",
   "execution_count": 16,
   "id": "155c6db2",
   "metadata": {},
   "outputs": [],
   "source": [
    "troll_df = df[df['Troll'] == 1]\n",
    "non_troll_df = df[df['Troll'] == 0]"
   ]
  },
  {
   "cell_type": "code",
   "execution_count": 17,
   "id": "6419f702",
   "metadata": {},
   "outputs": [],
   "source": [
    "# Get word frequencies for both dataframes\n",
    "troll_words = [word for words_list in troll_df['cleaned_words'] for word in words_list]\n",
    "troll_word_freq = Counter(troll_words)\n",
    "\n",
    "non_troll_words = [word for words_list in non_troll_df['cleaned_words'] for word in words_list]\n",
    "non_troll_word_freq = Counter(non_troll_words)"
   ]
  },
  {
   "cell_type": "code",
   "execution_count": 18,
   "id": "e506ee9e",
   "metadata": {},
   "outputs": [],
   "source": [
    "# Get top N words based on combined frequency\n",
    "N = 20 \n",
    "\n",
    "combined_freq = troll_word_freq + non_troll_word_freq\n",
    "top_words = [word for word, freq in combined_freq.most_common(N)]\n",
    "\n",
    "# Prepare data for plotting\n",
    "troll_counts = [troll_word_freq[word] for word in top_words]\n",
    "non_troll_counts = [non_troll_word_freq[word] for word in top_words]"
   ]
  },
  {
   "cell_type": "markdown",
   "id": "b9a2b77f",
   "metadata": {},
   "source": [
    "Below, we visualize the top words from the `cleaned_words` column, differentiating between Troll and Non-Troll posts. This will give us an understanding of the most frequently used words in each category."
   ]
  },
  {
   "cell_type": "code",
   "execution_count": 19,
   "id": "b0f00348",
   "metadata": {},
   "outputs": [
    {
     "data": {
      "image/png": "[encoded data removed]",
      "text/plain": [
       "<Figure size 1500x800 with 1 Axes>"
      ]
     },
     "metadata": {},
     "output_type": "display_data"
    }
   ],
   "source": [
    "plt.figure(figsize=(15, 8))\n",
    "\n",
    "# Create the bar objects\n",
    "bars1 = plt.bar(top_words, troll_counts, label='Troll', color='red', bottom=non_troll_counts)\n",
    "bars2 = plt.bar(top_words, non_troll_counts, label='Non-Troll', color='green')\n",
    "\n",
    "# Calculate the expected ratio based on the total number of non-troll posts\n",
    "expected_non_troll_ratio = 12179 / 20001\n",
    "\n",
    "# Add the 50% line and the expected ratio line to each stacked bar\n",
    "for bar1, bar2 in zip(bars1, bars2):\n",
    "    total_height = bar1.get_height() + bar2.get_height()\n",
    "    \n",
    "    # 50% line\n",
    "    half = total_height / 2\n",
    "    plt.hlines(bar2.get_y() + half, bar1.get_x(), bar1.get_x() + bar1.get_width(), colors='black', linestyles='dotted', lw=2)\n",
    "    \n",
    "    # Expected ratio line\n",
    "    expected_height = total_height * expected_non_troll_ratio\n",
    "    plt.hlines(bar2.get_y() + expected_height, bar1.get_x(), bar1.get_x() + bar1.get_width(), colors='white', linestyles='dotted', lw=2)\n",
    "\n",
    "plt.xlabel('Words')\n",
    "plt.ylabel('Frequency')\n",
    "plt.title('Word Frequencies in Troll vs. Non-Troll Posts')\n",
    "plt.xticks(rotation=45)\n",
    "\n",
    "# Custom legend entries\n",
    "legend_elements = [Line2D([0], [0], color='red', lw=4, label='Troll'),\n",
    "                   Line2D([0], [0], color='green', lw=4, label='Non-Troll'),\n",
    "                   Line2D([0], [0], color='black', linestyle='dotted', lw=2, label='50% Frequency Line'),\n",
    "                   Line2D([0], [0], color='white', linestyle='dotted', lw=2, label=f'Expected {expected_non_troll_ratio:.2%} Non-Troll Ratio')]\n",
    "\n",
    "legend = plt.legend(handles=legend_elements, loc='upper right')\n",
    "\n",
    "# Set the background color for the legend to a darker grey\n",
    "legend.get_frame().set_facecolor('#a0a0a0')\n",
    "\n",
    "plt.show()"
   ]
  },
  {
   "cell_type": "markdown",
   "id": "4b0f5108",
   "metadata": {},
   "source": [
    "---\n",
    "**Visualization Disclaimer**:\n",
    "\n",
    "The visualization displayed above showcases the frequency of various words present in the `cleaned_words` column of our dataset. The color distinction is made based on the Troll status:\n",
    "\n",
    "- **Red** represents words from posts that are labeled as Troll (i.e., Troll = 1).\n",
    "- **Green** represents words from posts that are not labeled as Troll (i.e., Troll = 0).\n",
    "\n",
    "Additional markers have been added to the visualization for clarity:\n",
    "- The **black dotted line** on each bar represents the 50% mark of the combined frequency for a given word.\n",
    "- The **white dotted line** on each bar indicates the expected distribution of words from non-troll posts (green section) based on the overall ratio of troll to non-troll posts in the dataset.\n",
    "\n",
    "It's important to note that the dataset contains a skewed distribution of labels:\n",
    "- Non-Troll posts (Troll = 0): **12,179**\n",
    "- Troll posts (Troll = 1): **7,822**\n",
    "\n",
    "This means that there are more non-troll posts than troll posts in the dataset. Therefore, while interpreting the visualization, one should keep this skewness in mind. It is entirely possible for certain words to appear frequently in both troll and non-troll posts. The stacking of colors in the histogram, along with the dotted lines, aims to capture this overlap and give a more holistic view of the word distribution across both categories.\n",
    "\n",
    "---"
   ]
  },
  {
   "cell_type": "markdown",
   "id": "d6edecba",
   "metadata": {},
   "source": []
  }
 ],
 "metadata": {
  "kernelspec": {
   "display_name": "Python 3 (ipykernel)",
   "language": "python",
   "name": "python3"
  },
  "language_info": {
   "codemirror_mode": {
    "name": "ipython",
    "version": 3
   },
   "file_extension": ".py",
   "mimetype": "text/x-python",
   "name": "python",
   "nbconvert_exporter": "python",
   "pygments_lexer": "ipython3",
   "version": "3.10.9"
  },
  "toc": {
   "base_numbering": 1,
   "nav_menu": {},
   "number_sections": true,
   "sideBar": true,
   "skip_h1_title": true,
   "title_cell": "Table of Contents",
   "title_sidebar": "Contents",
   "toc_cell": true,
   "toc_position": {
    "height": "calc(100% - 180px)",
    "left": "10px",
    "top": "150px",
    "width": "298.212px"
   },
   "toc_section_display": true,
   "toc_window_display": true
  }
 },
 "nbformat": 4,
 "nbformat_minor": 5
}
