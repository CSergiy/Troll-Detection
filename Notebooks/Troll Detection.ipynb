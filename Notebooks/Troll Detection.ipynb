{
 "cells": [
  {
   "cell_type": "markdown",
   "id": "dc3f091e",
   "metadata": {
    "toc": true
   },
   "source": [
    "<h1>Table of Contents<span class=\"tocSkip\"></span></h1>\n",
    "<div class=\"toc\"><ul class=\"toc-item\"><li><span><a href=\"#Project-Objective\" data-toc-modified-id=\"Project-Objective-1\"><span class=\"toc-item-num\">1&nbsp;&nbsp;</span>Project Objective</a></span></li><li><span><a href=\"#Dataset-Description\" data-toc-modified-id=\"Dataset-Description-2\"><span class=\"toc-item-num\">2&nbsp;&nbsp;</span>Dataset Description</a></span></li><li><span><a href=\"#Imports\" data-toc-modified-id=\"Imports-3\"><span class=\"toc-item-num\">3&nbsp;&nbsp;</span>Imports</a></span></li></ul></div>"
   ]
  },
  {
   "cell_type": "markdown",
   "id": "071ee639",
   "metadata": {},
   "source": [
    "# Table of Contents\n",
    "\n"
   ]
  },
  {
   "cell_type": "markdown",
   "id": "498a4636",
   "metadata": {},
   "source": [
    "# Introduction"
   ]
  },
  {
   "cell_type": "markdown",
   "id": "e9208bae",
   "metadata": {},
   "source": [
    "## Project Objective"
   ]
  },
  {
   "cell_type": "markdown",
   "id": "bc6198cf",
   "metadata": {},
   "source": [
    "## Dataset Description"
   ]
  },
  {
   "cell_type": "markdown",
   "id": "db09d91d",
   "metadata": {},
   "source": [
    "The dataset used for this analysis is sourced from Kaggle, specifically the [Dataset for Detection of Cyber-Trolls](https://www.kaggle.com/datasets/dataturks/dataset-for-detection-of-cybertrolls).\n",
    "\n",
    "This dataset consists of tweets that have been manually classified as either aggressive (potentially from trolls) or not aggressive. \n",
    "\n",
    "Key features of the dataset:\n",
    "- Contains 20,001 items (tweets).\n",
    "- Each tweet has been manually labeled.\n",
    "- The labels are categorized into two groups:\n",
    "    - 1 represents Cyber-Aggressive (potentially from trolls).\n",
    "    - 0 represents Non Cyber-Aggressive.\n",
    "\n",
    "This dataset serves as a valuable resource for training a machine learning model to identify troll behavior on social media platforms, thereby aiding in online safety and content moderation efforts."
   ]
  },
  {
   "cell_type": "markdown",
   "id": "2ea594bc",
   "metadata": {},
   "source": [
    "## Imports"
   ]
  },
  {
   "cell_type": "code",
   "execution_count": 1,
   "id": "af677d01",
   "metadata": {},
   "outputs": [],
   "source": [
    "import os\n",
    "import pandas as pd\n",
    "import matplotlib.pyplot as plt\n",
    "import seaborn as sns\n",
    "import nltk\n",
    "from nltk.corpus import stopwords\n",
    "from nltk.tokenize import word_tokenize\n",
    "import string\n",
    "from collections import Counter"
   ]
  },
  {
   "cell_type": "code",
   "execution_count": 2,
   "id": "db29f18b",
   "metadata": {},
   "outputs": [],
   "source": [
    "# nltk.download('stopwords')"
   ]
  },
  {
   "cell_type": "markdown",
   "id": "4cb1676c",
   "metadata": {},
   "source": [
    "# Data Loading and Initial Inspection"
   ]
  },
  {
   "cell_type": "code",
   "execution_count": 3,
   "id": "c48c87f4",
   "metadata": {},
   "outputs": [],
   "source": [
    "df = pd.read_json('../Data/Dataset for Detection of Cyber-Trolls.json', lines= True)"
   ]
  },
  {
   "cell_type": "code",
   "execution_count": 4,
   "id": "2afccf81",
   "metadata": {},
   "outputs": [
    {
     "data": {
      "text/html": [
       "<div>\n",
       "<style scoped>\n",
       "    .dataframe tbody tr th:only-of-type {\n",
       "        vertical-align: middle;\n",
       "    }\n",
       "\n",
       "    .dataframe tbody tr th {\n",
       "        vertical-align: top;\n",
       "    }\n",
       "\n",
       "    .dataframe thead th {\n",
       "        text-align: right;\n",
       "    }\n",
       "</style>\n",
       "<table border=\"1\" class=\"dataframe\">\n",
       "  <thead>\n",
       "    <tr style=\"text-align: right;\">\n",
       "      <th></th>\n",
       "      <th>content</th>\n",
       "      <th>annotation</th>\n",
       "      <th>extras</th>\n",
       "    </tr>\n",
       "  </thead>\n",
       "  <tbody>\n",
       "    <tr>\n",
       "      <th>0</th>\n",
       "      <td>Get fucking real dude.</td>\n",
       "      <td>{'notes': '', 'label': ['1']}</td>\n",
       "      <td>NaN</td>\n",
       "    </tr>\n",
       "    <tr>\n",
       "      <th>1</th>\n",
       "      <td>She is as dirty as they come  and that crook ...</td>\n",
       "      <td>{'notes': '', 'label': ['1']}</td>\n",
       "      <td>NaN</td>\n",
       "    </tr>\n",
       "    <tr>\n",
       "      <th>2</th>\n",
       "      <td>why did you fuck it up. I could do it all day...</td>\n",
       "      <td>{'notes': '', 'label': ['1']}</td>\n",
       "      <td>NaN</td>\n",
       "    </tr>\n",
       "    <tr>\n",
       "      <th>3</th>\n",
       "      <td>Dude they dont finish enclosing the fucking s...</td>\n",
       "      <td>{'notes': '', 'label': ['1']}</td>\n",
       "      <td>NaN</td>\n",
       "    </tr>\n",
       "    <tr>\n",
       "      <th>4</th>\n",
       "      <td>WTF are you talking about Men? No men thats n...</td>\n",
       "      <td>{'notes': '', 'label': ['1']}</td>\n",
       "      <td>NaN</td>\n",
       "    </tr>\n",
       "  </tbody>\n",
       "</table>\n",
       "</div>"
      ],
      "text/plain": [
       "                                             content  \\\n",
       "0                             Get fucking real dude.   \n",
       "1   She is as dirty as they come  and that crook ...   \n",
       "2   why did you fuck it up. I could do it all day...   \n",
       "3   Dude they dont finish enclosing the fucking s...   \n",
       "4   WTF are you talking about Men? No men thats n...   \n",
       "\n",
       "                      annotation  extras  \n",
       "0  {'notes': '', 'label': ['1']}     NaN  \n",
       "1  {'notes': '', 'label': ['1']}     NaN  \n",
       "2  {'notes': '', 'label': ['1']}     NaN  \n",
       "3  {'notes': '', 'label': ['1']}     NaN  \n",
       "4  {'notes': '', 'label': ['1']}     NaN  "
      ]
     },
     "execution_count": 4,
     "metadata": {},
     "output_type": "execute_result"
    }
   ],
   "source": [
    "df.head()"
   ]
  },
  {
   "cell_type": "code",
   "execution_count": 5,
   "id": "610cafc4",
   "metadata": {},
   "outputs": [
    {
     "data": {
      "text/plain": [
       "(20001, 3)"
      ]
     },
     "execution_count": 5,
     "metadata": {},
     "output_type": "execute_result"
    }
   ],
   "source": [
    "df.shape"
   ]
  },
  {
   "cell_type": "code",
   "execution_count": 6,
   "id": "1ab40517",
   "metadata": {},
   "outputs": [
    {
     "data": {
      "text/plain": [
       "content           0\n",
       "annotation        0\n",
       "extras        20001\n",
       "dtype: int64"
      ]
     },
     "execution_count": 6,
     "metadata": {},
     "output_type": "execute_result"
    }
   ],
   "source": [
    "df.isnull().sum()"
   ]
  },
  {
   "cell_type": "markdown",
   "id": "67d3a9d3",
   "metadata": {},
   "source": [
    "`extras` column is entirely null, so we will be dropping it."
   ]
  },
  {
   "cell_type": "code",
   "execution_count": 7,
   "id": "61e7143e",
   "metadata": {},
   "outputs": [],
   "source": [
    "df = df.drop(['extras'], axis=1)"
   ]
  },
  {
   "cell_type": "markdown",
   "id": "b61f5201",
   "metadata": {},
   "source": [
    "After dropping the 'extras' column, we now have a dataset with two useful features: 'content' and 'annotation'. The 'content' column contains the text of the social media posts, while the 'annotation' column carries a dictionary object with 'notes' and 'label' keys. \n",
    "\n",
    "However, for ease of analysis, it is more convenient to have 'troll' (which indicates whether a post is made by a troll or not) as a separate column rather than embedded within 'annotation'. Hence, we extract 'label' from the 'annotation' column and add it as a new column to the dataframe."
   ]
  },
  {
   "cell_type": "code",
   "execution_count": 8,
   "id": "820268e0",
   "metadata": {},
   "outputs": [],
   "source": [
    "# Create Binary column 'Troll'\n",
    "df['Troll'] = df['annotation'].apply(lambda x: x['label'][0])\n",
    "\n",
    "# Convert Troll column to integers\n",
    "df['Troll'] = df['Troll'].astype(int)\n",
    "\n",
    "# Remove old column 'annotation' as it is entirely redundant now.\n",
    "df = df.drop(['annotation'], axis=1)"
   ]
  },
  {
   "cell_type": "markdown",
   "id": "275b5ce9",
   "metadata": {},
   "source": [
    "Once this is done, we then count the number of each label to see the distribution of troll and non-troll posts in our dataset. The countplot visualization gives a clear picture of this distribution. The '0' label represents non-troll posts and '1' represents troll posts."
   ]
  },
  {
   "cell_type": "code",
   "execution_count": 9,
   "id": "38c11f50",
   "metadata": {},
   "outputs": [
    {
     "data": {
      "text/plain": [
       "0    12179\n",
       "1     7822\n",
       "Name: Troll, dtype: int64"
      ]
     },
     "execution_count": 9,
     "metadata": {},
     "output_type": "execute_result"
    }
   ],
   "source": [
    "df['Troll'].value_counts()"
   ]
  },
  {
   "cell_type": "code",
   "execution_count": 10,
   "id": "49e8b793",
   "metadata": {},
   "outputs": [
    {
     "data": {
      "image/png": "[encoded data removed]",
      "text/plain": [
       "<Figure size 640x480 with 1 Axes>"
      ]
     },
     "metadata": {},
     "output_type": "display_data"
    }
   ],
   "source": [
    "sns.countplot(x='Troll', data=df)\n",
    "plt.show()"
   ]
  },
  {
   "cell_type": "code",
   "execution_count": 11,
   "id": "9a67fcba",
   "metadata": {},
   "outputs": [
    {
     "data": {
      "text/html": [
       "<div>\n",
       "<style scoped>\n",
       "    .dataframe tbody tr th:only-of-type {\n",
       "        vertical-align: middle;\n",
       "    }\n",
       "\n",
       "    .dataframe tbody tr th {\n",
       "        vertical-align: top;\n",
       "    }\n",
       "\n",
       "    .dataframe thead th {\n",
       "        text-align: right;\n",
       "    }\n",
       "</style>\n",
       "<table border=\"1\" class=\"dataframe\">\n",
       "  <thead>\n",
       "    <tr style=\"text-align: right;\">\n",
       "      <th></th>\n",
       "      <th>content</th>\n",
       "      <th>Troll</th>\n",
       "    </tr>\n",
       "  </thead>\n",
       "  <tbody>\n",
       "    <tr>\n",
       "      <th>0</th>\n",
       "      <td>Get fucking real dude.</td>\n",
       "      <td>1</td>\n",
       "    </tr>\n",
       "    <tr>\n",
       "      <th>1</th>\n",
       "      <td>She is as dirty as they come  and that crook ...</td>\n",
       "      <td>1</td>\n",
       "    </tr>\n",
       "    <tr>\n",
       "      <th>2</th>\n",
       "      <td>why did you fuck it up. I could do it all day...</td>\n",
       "      <td>1</td>\n",
       "    </tr>\n",
       "    <tr>\n",
       "      <th>3</th>\n",
       "      <td>Dude they dont finish enclosing the fucking s...</td>\n",
       "      <td>1</td>\n",
       "    </tr>\n",
       "    <tr>\n",
       "      <th>4</th>\n",
       "      <td>WTF are you talking about Men? No men thats n...</td>\n",
       "      <td>1</td>\n",
       "    </tr>\n",
       "    <tr>\n",
       "      <th>...</th>\n",
       "      <td>...</td>\n",
       "      <td>...</td>\n",
       "    </tr>\n",
       "    <tr>\n",
       "      <th>19996</th>\n",
       "      <td>I dont. But what is complaining about it goi...</td>\n",
       "      <td>0</td>\n",
       "    </tr>\n",
       "    <tr>\n",
       "      <th>19997</th>\n",
       "      <td>Bahah  yeah i&amp;;m totally just gonna&amp;; get pis...</td>\n",
       "      <td>0</td>\n",
       "    </tr>\n",
       "    <tr>\n",
       "      <th>19998</th>\n",
       "      <td>hahahahaha &gt;:) im evil mwahahahahahahahahaha</td>\n",
       "      <td>0</td>\n",
       "    </tr>\n",
       "    <tr>\n",
       "      <th>19999</th>\n",
       "      <td>What&amp;;s something unique about Ohio? :)</td>\n",
       "      <td>0</td>\n",
       "    </tr>\n",
       "    <tr>\n",
       "      <th>20000</th>\n",
       "      <td>Who is the biggest gossiper you know?</td>\n",
       "      <td>0</td>\n",
       "    </tr>\n",
       "  </tbody>\n",
       "</table>\n",
       "<p>20001 rows × 2 columns</p>\n",
       "</div>"
      ],
      "text/plain": [
       "                                                 content  Troll\n",
       "0                                 Get fucking real dude.      1\n",
       "1       She is as dirty as they come  and that crook ...      1\n",
       "2       why did you fuck it up. I could do it all day...      1\n",
       "3       Dude they dont finish enclosing the fucking s...      1\n",
       "4       WTF are you talking about Men? No men thats n...      1\n",
       "...                                                  ...    ...\n",
       "19996    I dont. But what is complaining about it goi...      0\n",
       "19997   Bahah  yeah i&;m totally just gonna&; get pis...      0\n",
       "19998       hahahahaha >:) im evil mwahahahahahahahahaha      0\n",
       "19999            What&;s something unique about Ohio? :)      0\n",
       "20000              Who is the biggest gossiper you know?      0\n",
       "\n",
       "[20001 rows x 2 columns]"
      ]
     },
     "execution_count": 11,
     "metadata": {},
     "output_type": "execute_result"
    }
   ],
   "source": [
    "df"
   ]
  },
  {
   "cell_type": "markdown",
   "id": "aaa85f7c",
   "metadata": {},
   "source": [
    "# Feature Extraction"
   ]
  },
  {
   "cell_type": "code",
   "execution_count": 12,
   "id": "c31a866d",
   "metadata": {},
   "outputs": [],
   "source": [
    "stop_words = set(stopwords.words('english'))\n",
    "\n",
    "def preprocess_text(text):\n",
    "    # Lowercase the text\n",
    "    text = text.lower()\n",
    "    \n",
    "    # Tokenize the text\n",
    "    words = word_tokenize(text)\n",
    "    \n",
    "    # Remove punctuation and filter out stop words\n",
    "    words = [word for word in words if word.isalpha() and word not in stop_words]\n",
    "\n",
    "    return words\n",
    "\n",
    "# Apply the preprocessing to the 'content' column\n",
    "df['cleaned_words'] = df['content'].apply(preprocess_text)"
   ]
  },
  {
   "cell_type": "code",
   "execution_count": 13,
   "id": "ca93cff6",
   "metadata": {},
   "outputs": [
    {
     "data": {
      "text/html": [
       "<div>\n",
       "<style scoped>\n",
       "    .dataframe tbody tr th:only-of-type {\n",
       "        vertical-align: middle;\n",
       "    }\n",
       "\n",
       "    .dataframe tbody tr th {\n",
       "        vertical-align: top;\n",
       "    }\n",
       "\n",
       "    .dataframe thead th {\n",
       "        text-align: right;\n",
       "    }\n",
       "</style>\n",
       "<table border=\"1\" class=\"dataframe\">\n",
       "  <thead>\n",
       "    <tr style=\"text-align: right;\">\n",
       "      <th></th>\n",
       "      <th>content</th>\n",
       "      <th>Troll</th>\n",
       "      <th>cleaned_words</th>\n",
       "    </tr>\n",
       "  </thead>\n",
       "  <tbody>\n",
       "    <tr>\n",
       "      <th>0</th>\n",
       "      <td>Get fucking real dude.</td>\n",
       "      <td>1</td>\n",
       "      <td>[get, fucking, real, dude]</td>\n",
       "    </tr>\n",
       "    <tr>\n",
       "      <th>1</th>\n",
       "      <td>She is as dirty as they come  and that crook ...</td>\n",
       "      <td>1</td>\n",
       "      <td>[dirty, come, crook, rengel, dems, fucking, co...</td>\n",
       "    </tr>\n",
       "    <tr>\n",
       "      <th>2</th>\n",
       "      <td>why did you fuck it up. I could do it all day...</td>\n",
       "      <td>1</td>\n",
       "      <td>[fuck, could, day, let, hour, ping, later, sch...</td>\n",
       "    </tr>\n",
       "    <tr>\n",
       "      <th>3</th>\n",
       "      <td>Dude they dont finish enclosing the fucking s...</td>\n",
       "      <td>1</td>\n",
       "      <td>[dude, dont, finish, enclosing, fucking, showe...</td>\n",
       "    </tr>\n",
       "    <tr>\n",
       "      <th>4</th>\n",
       "      <td>WTF are you talking about Men? No men thats n...</td>\n",
       "      <td>1</td>\n",
       "      <td>[wtf, talking, men, men, thats, menage, gay]</td>\n",
       "    </tr>\n",
       "    <tr>\n",
       "      <th>...</th>\n",
       "      <td>...</td>\n",
       "      <td>...</td>\n",
       "      <td>...</td>\n",
       "    </tr>\n",
       "    <tr>\n",
       "      <th>19996</th>\n",
       "      <td>I dont. But what is complaining about it goi...</td>\n",
       "      <td>0</td>\n",
       "      <td>[dont, complaining, going]</td>\n",
       "    </tr>\n",
       "    <tr>\n",
       "      <th>19997</th>\n",
       "      <td>Bahah  yeah i&amp;;m totally just gonna&amp;; get pis...</td>\n",
       "      <td>0</td>\n",
       "      <td>[bahah, yeah, totally, gon, na, get, pissed, t...</td>\n",
       "    </tr>\n",
       "    <tr>\n",
       "      <th>19998</th>\n",
       "      <td>hahahahaha &gt;:) im evil mwahahahahahahahahaha</td>\n",
       "      <td>0</td>\n",
       "      <td>[hahahahaha, im, evil, mwahahahahahahahahaha]</td>\n",
       "    </tr>\n",
       "    <tr>\n",
       "      <th>19999</th>\n",
       "      <td>What&amp;;s something unique about Ohio? :)</td>\n",
       "      <td>0</td>\n",
       "      <td>[something, unique, ohio]</td>\n",
       "    </tr>\n",
       "    <tr>\n",
       "      <th>20000</th>\n",
       "      <td>Who is the biggest gossiper you know?</td>\n",
       "      <td>0</td>\n",
       "      <td>[biggest, gossiper, know]</td>\n",
       "    </tr>\n",
       "  </tbody>\n",
       "</table>\n",
       "<p>20001 rows × 3 columns</p>\n",
       "</div>"
      ],
      "text/plain": [
       "                                                 content  Troll  \\\n",
       "0                                 Get fucking real dude.      1   \n",
       "1       She is as dirty as they come  and that crook ...      1   \n",
       "2       why did you fuck it up. I could do it all day...      1   \n",
       "3       Dude they dont finish enclosing the fucking s...      1   \n",
       "4       WTF are you talking about Men? No men thats n...      1   \n",
       "...                                                  ...    ...   \n",
       "19996    I dont. But what is complaining about it goi...      0   \n",
       "19997   Bahah  yeah i&;m totally just gonna&; get pis...      0   \n",
       "19998       hahahahaha >:) im evil mwahahahahahahahahaha      0   \n",
       "19999            What&;s something unique about Ohio? :)      0   \n",
       "20000              Who is the biggest gossiper you know?      0   \n",
       "\n",
       "                                           cleaned_words  \n",
       "0                             [get, fucking, real, dude]  \n",
       "1      [dirty, come, crook, rengel, dems, fucking, co...  \n",
       "2      [fuck, could, day, let, hour, ping, later, sch...  \n",
       "3      [dude, dont, finish, enclosing, fucking, showe...  \n",
       "4           [wtf, talking, men, men, thats, menage, gay]  \n",
       "...                                                  ...  \n",
       "19996                         [dont, complaining, going]  \n",
       "19997  [bahah, yeah, totally, gon, na, get, pissed, t...  \n",
       "19998      [hahahahaha, im, evil, mwahahahahahahahahaha]  \n",
       "19999                          [something, unique, ohio]  \n",
       "20000                          [biggest, gossiper, know]  \n",
       "\n",
       "[20001 rows x 3 columns]"
      ]
     },
     "execution_count": 13,
     "metadata": {},
     "output_type": "execute_result"
    }
   ],
   "source": [
    "df"
   ]
  },
  {
   "cell_type": "code",
   "execution_count": 14,
   "id": "1ccbc4ff",
   "metadata": {},
   "outputs": [
    {
     "name": "stdout",
     "output_type": "stream",
     "text": [
      "hate: 2791\n",
      "damn: 2466\n",
      "ass: 1737\n",
      "sucks: 1525\n",
      "fuck: 1459\n",
      "like: 1434\n",
      "lol: 1432\n",
      "get: 1045\n",
      "would: 1007\n",
      "fucking: 991\n"
     ]
    }
   ],
   "source": [
    "# Concatenate all the lists of words\n",
    "all_words = [word for words in df['cleaned_words'] for word in words]\n",
    "\n",
    "# Count the frequency of each word\n",
    "word_freq = Counter(all_words)\n",
    "\n",
    "# Print the most common words and their frequencies\n",
    "for word, freq in word_freq.most_common(10):\n",
    "    print(f'{word}: {freq}')"
   ]
  },
  {
   "cell_type": "code",
   "execution_count": 15,
   "id": "e9fc0f71",
   "metadata": {},
   "outputs": [
    {
     "data": {
      "text/html": [
       "<div>\n",
       "<style scoped>\n",
       "    .dataframe tbody tr th:only-of-type {\n",
       "        vertical-align: middle;\n",
       "    }\n",
       "\n",
       "    .dataframe tbody tr th {\n",
       "        vertical-align: top;\n",
       "    }\n",
       "\n",
       "    .dataframe thead th {\n",
       "        text-align: right;\n",
       "    }\n",
       "</style>\n",
       "<table border=\"1\" class=\"dataframe\">\n",
       "  <thead>\n",
       "    <tr style=\"text-align: right;\">\n",
       "      <th></th>\n",
       "      <th>content</th>\n",
       "      <th>Troll</th>\n",
       "      <th>cleaned_words</th>\n",
       "    </tr>\n",
       "  </thead>\n",
       "  <tbody>\n",
       "    <tr>\n",
       "      <th>0</th>\n",
       "      <td>Get fucking real dude.</td>\n",
       "      <td>1</td>\n",
       "      <td>[get, fucking, real, dude]</td>\n",
       "    </tr>\n",
       "    <tr>\n",
       "      <th>1</th>\n",
       "      <td>She is as dirty as they come  and that crook ...</td>\n",
       "      <td>1</td>\n",
       "      <td>[dirty, come, crook, rengel, dems, fucking, co...</td>\n",
       "    </tr>\n",
       "    <tr>\n",
       "      <th>2</th>\n",
       "      <td>why did you fuck it up. I could do it all day...</td>\n",
       "      <td>1</td>\n",
       "      <td>[fuck, could, day, let, hour, ping, later, sch...</td>\n",
       "    </tr>\n",
       "    <tr>\n",
       "      <th>3</th>\n",
       "      <td>Dude they dont finish enclosing the fucking s...</td>\n",
       "      <td>1</td>\n",
       "      <td>[dude, dont, finish, enclosing, fucking, showe...</td>\n",
       "    </tr>\n",
       "    <tr>\n",
       "      <th>4</th>\n",
       "      <td>WTF are you talking about Men? No men thats n...</td>\n",
       "      <td>1</td>\n",
       "      <td>[wtf, talking, men, men, thats, menage, gay]</td>\n",
       "    </tr>\n",
       "    <tr>\n",
       "      <th>...</th>\n",
       "      <td>...</td>\n",
       "      <td>...</td>\n",
       "      <td>...</td>\n",
       "    </tr>\n",
       "    <tr>\n",
       "      <th>19996</th>\n",
       "      <td>I dont. But what is complaining about it goi...</td>\n",
       "      <td>0</td>\n",
       "      <td>[dont, complaining, going]</td>\n",
       "    </tr>\n",
       "    <tr>\n",
       "      <th>19997</th>\n",
       "      <td>Bahah  yeah i&amp;;m totally just gonna&amp;; get pis...</td>\n",
       "      <td>0</td>\n",
       "      <td>[bahah, yeah, totally, gon, na, get, pissed, t...</td>\n",
       "    </tr>\n",
       "    <tr>\n",
       "      <th>19998</th>\n",
       "      <td>hahahahaha &gt;:) im evil mwahahahahahahahahaha</td>\n",
       "      <td>0</td>\n",
       "      <td>[hahahahaha, im, evil, mwahahahahahahahahaha]</td>\n",
       "    </tr>\n",
       "    <tr>\n",
       "      <th>19999</th>\n",
       "      <td>What&amp;;s something unique about Ohio? :)</td>\n",
       "      <td>0</td>\n",
       "      <td>[something, unique, ohio]</td>\n",
       "    </tr>\n",
       "    <tr>\n",
       "      <th>20000</th>\n",
       "      <td>Who is the biggest gossiper you know?</td>\n",
       "      <td>0</td>\n",
       "      <td>[biggest, gossiper, know]</td>\n",
       "    </tr>\n",
       "  </tbody>\n",
       "</table>\n",
       "<p>20001 rows × 3 columns</p>\n",
       "</div>"
      ],
      "text/plain": [
       "                                                 content  Troll  \\\n",
       "0                                 Get fucking real dude.      1   \n",
       "1       She is as dirty as they come  and that crook ...      1   \n",
       "2       why did you fuck it up. I could do it all day...      1   \n",
       "3       Dude they dont finish enclosing the fucking s...      1   \n",
       "4       WTF are you talking about Men? No men thats n...      1   \n",
       "...                                                  ...    ...   \n",
       "19996    I dont. But what is complaining about it goi...      0   \n",
       "19997   Bahah  yeah i&;m totally just gonna&; get pis...      0   \n",
       "19998       hahahahaha >:) im evil mwahahahahahahahahaha      0   \n",
       "19999            What&;s something unique about Ohio? :)      0   \n",
       "20000              Who is the biggest gossiper you know?      0   \n",
       "\n",
       "                                           cleaned_words  \n",
       "0                             [get, fucking, real, dude]  \n",
       "1      [dirty, come, crook, rengel, dems, fucking, co...  \n",
       "2      [fuck, could, day, let, hour, ping, later, sch...  \n",
       "3      [dude, dont, finish, enclosing, fucking, showe...  \n",
       "4           [wtf, talking, men, men, thats, menage, gay]  \n",
       "...                                                  ...  \n",
       "19996                         [dont, complaining, going]  \n",
       "19997  [bahah, yeah, totally, gon, na, get, pissed, t...  \n",
       "19998      [hahahahaha, im, evil, mwahahahahahahahahaha]  \n",
       "19999                          [something, unique, ohio]  \n",
       "20000                          [biggest, gossiper, know]  \n",
       "\n",
       "[20001 rows x 3 columns]"
      ]
     },
     "execution_count": 15,
     "metadata": {},
     "output_type": "execute_result"
    }
   ],
   "source": [
    "df"
   ]
  },
  {
   "cell_type": "code",
   "execution_count": 16,
   "id": "c02c58e1",
   "metadata": {},
   "outputs": [
    {
     "name": "stdout",
     "output_type": "stream",
     "text": [
      "['get', 'fucking', 'real', 'dude', 'dirty', 'come', 'crook', 'rengel', 'dems', 'fucking']\n"
     ]
    }
   ],
   "source": [
    "# Concatenate all the lists of words in the \"cleaned_words\" column\n",
    "all_words = [word for words_list in df['cleaned_words'] for word in words_list]\n",
    "\n",
    "# Print the first 10 words to check if it's working correctly\n",
    "print(all_words[:10])"
   ]
  },
  {
   "cell_type": "code",
   "execution_count": 17,
   "id": "1cbb4722",
   "metadata": {},
   "outputs": [
    {
     "name": "stdout",
     "output_type": "stream",
     "text": [
      "['get', 'fucking', 'real', 'dude', 'dirty', 'come', 'crook', 'rengel', 'dems', 'fucking']\n"
     ]
    }
   ],
   "source": [
    "# Filter the DataFrame for troll messages\n",
    "troll_df = df[df['Troll'] == 1]\n",
    "\n",
    "# Concatenate all the lists of words in the \"cleaned_words\" column of troll_df\n",
    "troll_words = [word for words_list in troll_df['cleaned_words'] for word in words_list]\n",
    "\n",
    "# Print the first 10 words to check if it's working correctly\n",
    "print(troll_words[:10])"
   ]
  },
  {
   "cell_type": "code",
   "execution_count": 18,
   "id": "0b983cad",
   "metadata": {},
   "outputs": [
    {
     "name": "stdout",
     "output_type": "stream",
     "text": [
      "hate: 1308\n",
      "damn: 1098\n",
      "fuck: 1039\n",
      "ass: 1028\n",
      "sucks: 718\n",
      "fucking: 631\n",
      "lol: 593\n",
      "bitch: 500\n",
      "like: 497\n",
      "u: 487\n"
     ]
    }
   ],
   "source": [
    "# Count the frequency of each word\n",
    "troll_word_freq = Counter(troll_words)\n",
    "\n",
    "# Print the most common words and their frequencies\n",
    "for word, freq in troll_word_freq.most_common(10):\n",
    "    print(f'{word}: {freq}')"
   ]
  },
  {
   "cell_type": "code",
   "execution_count": 19,
   "id": "42313c8a",
   "metadata": {},
   "outputs": [
    {
     "data": {
      "text/html": [
       "<div>\n",
       "<style scoped>\n",
       "    .dataframe tbody tr th:only-of-type {\n",
       "        vertical-align: middle;\n",
       "    }\n",
       "\n",
       "    .dataframe tbody tr th {\n",
       "        vertical-align: top;\n",
       "    }\n",
       "\n",
       "    .dataframe thead th {\n",
       "        text-align: right;\n",
       "    }\n",
       "</style>\n",
       "<table border=\"1\" class=\"dataframe\">\n",
       "  <thead>\n",
       "    <tr style=\"text-align: right;\">\n",
       "      <th></th>\n",
       "      <th>content</th>\n",
       "      <th>Troll</th>\n",
       "      <th>cleaned_words</th>\n",
       "    </tr>\n",
       "  </thead>\n",
       "  <tbody>\n",
       "    <tr>\n",
       "      <th>0</th>\n",
       "      <td>Get fucking real dude.</td>\n",
       "      <td>1</td>\n",
       "      <td>[get, fucking, real, dude]</td>\n",
       "    </tr>\n",
       "    <tr>\n",
       "      <th>1</th>\n",
       "      <td>She is as dirty as they come  and that crook ...</td>\n",
       "      <td>1</td>\n",
       "      <td>[dirty, come, crook, rengel, dems, fucking, co...</td>\n",
       "    </tr>\n",
       "    <tr>\n",
       "      <th>2</th>\n",
       "      <td>why did you fuck it up. I could do it all day...</td>\n",
       "      <td>1</td>\n",
       "      <td>[fuck, could, day, let, hour, ping, later, sch...</td>\n",
       "    </tr>\n",
       "    <tr>\n",
       "      <th>3</th>\n",
       "      <td>Dude they dont finish enclosing the fucking s...</td>\n",
       "      <td>1</td>\n",
       "      <td>[dude, dont, finish, enclosing, fucking, showe...</td>\n",
       "    </tr>\n",
       "    <tr>\n",
       "      <th>4</th>\n",
       "      <td>WTF are you talking about Men? No men thats n...</td>\n",
       "      <td>1</td>\n",
       "      <td>[wtf, talking, men, men, thats, menage, gay]</td>\n",
       "    </tr>\n",
       "    <tr>\n",
       "      <th>...</th>\n",
       "      <td>...</td>\n",
       "      <td>...</td>\n",
       "      <td>...</td>\n",
       "    </tr>\n",
       "    <tr>\n",
       "      <th>7817</th>\n",
       "      <td>/nerd *laugh*</td>\n",
       "      <td>1</td>\n",
       "      <td>[laugh]</td>\n",
       "    </tr>\n",
       "    <tr>\n",
       "      <th>7818</th>\n",
       "      <td>Ah. Gay!</td>\n",
       "      <td>1</td>\n",
       "      <td>[ah, gay]</td>\n",
       "    </tr>\n",
       "    <tr>\n",
       "      <th>7819</th>\n",
       "      <td>I hate you so much I just want to smash your f...</td>\n",
       "      <td>1</td>\n",
       "      <td>[hate, much, want, smash, face]</td>\n",
       "    </tr>\n",
       "    <tr>\n",
       "      <th>7820</th>\n",
       "      <td>Yes you are a loser... I could have told you t...</td>\n",
       "      <td>1</td>\n",
       "      <td>[yes, loser, could, told, long, time, ago]</td>\n",
       "    </tr>\n",
       "    <tr>\n",
       "      <th>7821</th>\n",
       "      <td>. . . HE'S FUCKING HIMSELF!</td>\n",
       "      <td>1</td>\n",
       "      <td>[fucking]</td>\n",
       "    </tr>\n",
       "  </tbody>\n",
       "</table>\n",
       "<p>7822 rows × 3 columns</p>\n",
       "</div>"
      ],
      "text/plain": [
       "                                                content  Troll  \\\n",
       "0                                Get fucking real dude.      1   \n",
       "1      She is as dirty as they come  and that crook ...      1   \n",
       "2      why did you fuck it up. I could do it all day...      1   \n",
       "3      Dude they dont finish enclosing the fucking s...      1   \n",
       "4      WTF are you talking about Men? No men thats n...      1   \n",
       "...                                                 ...    ...   \n",
       "7817                                      /nerd *laugh*      1   \n",
       "7818                                           Ah. Gay!      1   \n",
       "7819  I hate you so much I just want to smash your f...      1   \n",
       "7820  Yes you are a loser... I could have told you t...      1   \n",
       "7821                        . . . HE'S FUCKING HIMSELF!      1   \n",
       "\n",
       "                                          cleaned_words  \n",
       "0                            [get, fucking, real, dude]  \n",
       "1     [dirty, come, crook, rengel, dems, fucking, co...  \n",
       "2     [fuck, could, day, let, hour, ping, later, sch...  \n",
       "3     [dude, dont, finish, enclosing, fucking, showe...  \n",
       "4          [wtf, talking, men, men, thats, menage, gay]  \n",
       "...                                                 ...  \n",
       "7817                                            [laugh]  \n",
       "7818                                          [ah, gay]  \n",
       "7819                    [hate, much, want, smash, face]  \n",
       "7820         [yes, loser, could, told, long, time, ago]  \n",
       "7821                                          [fucking]  \n",
       "\n",
       "[7822 rows x 3 columns]"
      ]
     },
     "execution_count": 19,
     "metadata": {},
     "output_type": "execute_result"
    }
   ],
   "source": [
    "troll_df"
   ]
  },
  {
   "cell_type": "code",
   "execution_count": null,
   "id": "9167b795",
   "metadata": {},
   "outputs": [],
   "source": []
  }
 ],
 "metadata": {
  "kernelspec": {
   "display_name": "Python 3 (ipykernel)",
   "language": "python",
   "name": "python3"
  },
  "language_info": {
   "codemirror_mode": {
    "name": "ipython",
    "version": 3
   },
   "file_extension": ".py",
   "mimetype": "text/x-python",
   "name": "python",
   "nbconvert_exporter": "python",
   "pygments_lexer": "ipython3",
   "version": "3.10.9"
  },
  "toc": {
   "base_numbering": 1,
   "nav_menu": {},
   "number_sections": true,
   "sideBar": true,
   "skip_h1_title": true,
   "title_cell": "Table of Contents",
   "title_sidebar": "Contents",
   "toc_cell": true,
   "toc_position": {
    "height": "calc(100% - 180px)",
    "left": "10px",
    "top": "150px",
    "width": "298.212px"
   },
   "toc_section_display": true,
   "toc_window_display": true
  }
 },
 "nbformat": 4,
 "nbformat_minor": 5
}
