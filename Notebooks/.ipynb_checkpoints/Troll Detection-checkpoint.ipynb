{
 "cells": [
  {
   "cell_type": "markdown",
   "id": "071ee639",
   "metadata": {},
   "source": [
    "# Table of Contents\n",
    "\n"
   ]
  },
  {
   "cell_type": "markdown",
   "id": "498a4636",
   "metadata": {},
   "source": [
    "# Introduction"
   ]
  },
  {
   "cell_type": "markdown",
   "id": "e9208bae",
   "metadata": {},
   "source": [
    "## Project Objective"
   ]
  },
  {
   "cell_type": "markdown",
   "id": "bc6198cf",
   "metadata": {},
   "source": [
    "## Dataset Description"
   ]
  },
  {
   "cell_type": "markdown",
   "id": "db09d91d",
   "metadata": {},
   "source": [
    "The dataset used for this analysis is sourced from Kaggle, specifically the [Dataset for Detection of Cyber-Trolls](https://www.kaggle.com/datasets/dataturks/dataset-for-detection-of-cybertrolls).\n",
    "\n",
    "This dataset consists of tweets that have been manually classified as either aggressive (potentially from trolls) or not aggressive. \n",
    "\n",
    "Key features of the dataset:\n",
    "- Contains 20,001 items (tweets).\n",
    "- Each tweet has been manually labeled.\n",
    "- The labels are categorized into two groups:\n",
    "    - 1 represents Cyber-Aggressive (potentially from trolls).\n",
    "    - 0 represents Non Cyber-Aggressive.\n",
    "\n",
    "This dataset serves as a valuable resource for training a machine learning model to identify troll behavior on social media platforms, thereby aiding in online safety and content moderation efforts."
   ]
  },
  {
   "cell_type": "markdown",
   "id": "2ea594bc",
   "metadata": {},
   "source": [
    "## Imports"
   ]
  },
  {
   "cell_type": "code",
   "execution_count": 13,
   "id": "af677d01",
   "metadata": {},
   "outputs": [],
   "source": [
    "import os\n",
    "import pandas as pd\n",
    "import matplotlib.pyplot as plt\n",
    "import seaborn as sns"
   ]
  },
  {
   "cell_type": "markdown",
   "id": "ca95789b",
   "metadata": {},
   "source": [
    "# Data Loading and Initial Inspection"
   ]
  },
  {
   "cell_type": "code",
   "execution_count": 6,
   "id": "c48c87f4",
   "metadata": {},
   "outputs": [],
   "source": [
    "df = pd.read_json('../Data/Dataset for Detection of Cyber-Trolls.json', lines= True)"
   ]
  },
  {
   "cell_type": "code",
   "execution_count": 7,
   "id": "2afccf81",
   "metadata": {},
   "outputs": [
    {
     "data": {
      "text/html": [
       "<div>\n",
       "<style scoped>\n",
       "    .dataframe tbody tr th:only-of-type {\n",
       "        vertical-align: middle;\n",
       "    }\n",
       "\n",
       "    .dataframe tbody tr th {\n",
       "        vertical-align: top;\n",
       "    }\n",
       "\n",
       "    .dataframe thead th {\n",
       "        text-align: right;\n",
       "    }\n",
       "</style>\n",
       "<table border=\"1\" class=\"dataframe\">\n",
       "  <thead>\n",
       "    <tr style=\"text-align: right;\">\n",
       "      <th></th>\n",
       "      <th>content</th>\n",
       "      <th>annotation</th>\n",
       "      <th>extras</th>\n",
       "    </tr>\n",
       "  </thead>\n",
       "  <tbody>\n",
       "    <tr>\n",
       "      <th>0</th>\n",
       "      <td>Get fucking real dude.</td>\n",
       "      <td>{'notes': '', 'label': ['1']}</td>\n",
       "      <td>NaN</td>\n",
       "    </tr>\n",
       "    <tr>\n",
       "      <th>1</th>\n",
       "      <td>She is as dirty as they come  and that crook ...</td>\n",
       "      <td>{'notes': '', 'label': ['1']}</td>\n",
       "      <td>NaN</td>\n",
       "    </tr>\n",
       "    <tr>\n",
       "      <th>2</th>\n",
       "      <td>why did you fuck it up. I could do it all day...</td>\n",
       "      <td>{'notes': '', 'label': ['1']}</td>\n",
       "      <td>NaN</td>\n",
       "    </tr>\n",
       "    <tr>\n",
       "      <th>3</th>\n",
       "      <td>Dude they dont finish enclosing the fucking s...</td>\n",
       "      <td>{'notes': '', 'label': ['1']}</td>\n",
       "      <td>NaN</td>\n",
       "    </tr>\n",
       "    <tr>\n",
       "      <th>4</th>\n",
       "      <td>WTF are you talking about Men? No men thats n...</td>\n",
       "      <td>{'notes': '', 'label': ['1']}</td>\n",
       "      <td>NaN</td>\n",
       "    </tr>\n",
       "  </tbody>\n",
       "</table>\n",
       "</div>"
      ],
      "text/plain": [
       "                                             content  \\\n",
       "0                             Get fucking real dude.   \n",
       "1   She is as dirty as they come  and that crook ...   \n",
       "2   why did you fuck it up. I could do it all day...   \n",
       "3   Dude they dont finish enclosing the fucking s...   \n",
       "4   WTF are you talking about Men? No men thats n...   \n",
       "\n",
       "                      annotation  extras  \n",
       "0  {'notes': '', 'label': ['1']}     NaN  \n",
       "1  {'notes': '', 'label': ['1']}     NaN  \n",
       "2  {'notes': '', 'label': ['1']}     NaN  \n",
       "3  {'notes': '', 'label': ['1']}     NaN  \n",
       "4  {'notes': '', 'label': ['1']}     NaN  "
      ]
     },
     "execution_count": 7,
     "metadata": {},
     "output_type": "execute_result"
    }
   ],
   "source": [
    "df.head()"
   ]
  },
  {
   "cell_type": "code",
   "execution_count": 8,
   "id": "610cafc4",
   "metadata": {},
   "outputs": [
    {
     "data": {
      "text/plain": [
       "(20001, 3)"
      ]
     },
     "execution_count": 8,
     "metadata": {},
     "output_type": "execute_result"
    }
   ],
   "source": [
    "df.shape"
   ]
  },
  {
   "cell_type": "code",
   "execution_count": 9,
   "id": "1ab40517",
   "metadata": {},
   "outputs": [
    {
     "data": {
      "text/plain": [
       "content           0\n",
       "annotation        0\n",
       "extras        20001\n",
       "dtype: int64"
      ]
     },
     "execution_count": 9,
     "metadata": {},
     "output_type": "execute_result"
    }
   ],
   "source": [
    "df.isnull().sum()"
   ]
  },
  {
   "cell_type": "markdown",
   "id": "67d3a9d3",
   "metadata": {},
   "source": [
    "`extras` column is entirely null, so we will be dropping it."
   ]
  },
  {
   "cell_type": "code",
   "execution_count": 15,
   "id": "61e7143e",
   "metadata": {},
   "outputs": [],
   "source": [
    "df = df.drop(['extras'], axis=1)"
   ]
  },
  {
   "cell_type": "markdown",
   "id": "b61f5201",
   "metadata": {},
   "source": [
    "After dropping the 'extras' column, we now have a dataset with two useful features: 'content' and 'annotation'. The 'content' column contains the text of the social media posts, while the 'annotation' column carries a dictionary object with 'notes' and 'label' keys. \n",
    "\n",
    "However, for ease of analysis, it is more convenient to have 'troll' (which indicates whether a post is made by a troll or not) as a separate column rather than embedded within 'annotation'. Hence, we extract 'label' from the 'annotation' column and add it as a new column to the dataframe."
   ]
  },
  {
   "cell_type": "code",
   "execution_count": 10,
   "id": "820268e0",
   "metadata": {},
   "outputs": [],
   "source": [
    "# Create Binary column 'Troll'\n",
    "df['Troll'] = df['annotation'].apply(lambda x: x['label'][0])\n",
    "\n",
    "# Remove old column 'annotation' as it is entirely redundant now.\n",
    "df = df.drop(['annotation'], axis=1)"
   ]
  },
  {
   "cell_type": "markdown",
   "id": "275b5ce9",
   "metadata": {},
   "source": [
    "Once this is done, we then count the number of each label to see the distribution of troll and non-troll posts in our dataset. The countplot visualization gives a clear picture of this distribution. The '0' label represents non-troll posts and '1' represents troll posts."
   ]
  },
  {
   "cell_type": "code",
   "execution_count": 12,
   "id": "38c11f50",
   "metadata": {},
   "outputs": [
    {
     "data": {
      "text/plain": [
       "0    12179\n",
       "1     7822\n",
       "Name: label, dtype: int64"
      ]
     },
     "execution_count": 12,
     "metadata": {},
     "output_type": "execute_result"
    }
   ],
   "source": [
    "df['label'].value_counts()"
   ]
  },
  {
   "cell_type": "code",
   "execution_count": 14,
   "id": "49e8b793",
   "metadata": {},
   "outputs": [
    {
     "data": {
      "image/png": "[encoded data removed]",
      "text/plain": [
       "<Figure size 640x480 with 1 Axes>"
      ]
     },
     "metadata": {},
     "output_type": "display_data"
    }
   ],
   "source": [
    "sns.countplot(x='label', data=df)\n",
    "plt.show()"
   ]
  },
  {
   "cell_type": "code",
   "execution_count": null,
   "id": "9a67fcba",
   "metadata": {},
   "outputs": [],
   "source": []
  },
  {
   "cell_type": "code",
   "execution_count": null,
   "id": "c31a866d",
   "metadata": {},
   "outputs": [],
   "source": []
  }
 ],
 "metadata": {
  "kernelspec": {
   "display_name": "Python 3 (ipykernel)",
   "language": "python",
   "name": "python3"
  },
  "language_info": {
   "codemirror_mode": {
    "name": "ipython",
    "version": 3
   },
   "file_extension": ".py",
   "mimetype": "text/x-python",
   "name": "python",
   "nbconvert_exporter": "python",
   "pygments_lexer": "ipython3",
   "version": "3.10.9"
  },
  "toc": {
   "base_numbering": 1,
   "nav_menu": {},
   "number_sections": true,
   "sideBar": true,
   "skip_h1_title": true,
   "title_cell": "Table of Contents",
   "title_sidebar": "Contents",
   "toc_cell": true,
   "toc_position": {
    "height": "calc(100% - 180px)",
    "left": "10px",
    "top": "150px",
    "width": "298.212px"
   },
   "toc_section_display": true,
   "toc_window_display": true
  }
 },
 "nbformat": 4,
 "nbformat_minor": 5
}
